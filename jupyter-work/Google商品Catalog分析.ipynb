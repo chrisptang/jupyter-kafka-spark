{
 "cells": [
  {
   "cell_type": "code",
   "execution_count": 1,
   "id": "81d618b0-a78b-402c-a778-c9dd626d2949",
   "metadata": {},
   "outputs": [],
   "source": [
    "import json\n",
    "from os.path import abspath\n",
    "from pyspark.context import SparkContext\n",
    "from pyspark.sql.session import SparkSession\n",
    "import pandas as pd\n",
    "import pyspark.sql.functions as F\n",
    "from pyspark.sql.window import Window as W\n",
    "from pyspark.sql.types import MapType,StringType,ArrayType\n",
    "\n",
    "\n",
    "from datetime import datetime\n",
    "from datetime import timedelta\n",
    "\n",
    "today=datetime.now().strftime(\"%Y-%m-%d\")\n",
    "yesterday=(datetime.now()-timedelta(1)).strftime(\"%Y-%m-%d\")\n",
    "\n",
    "print(today,yesterday,\"starting tasks at:\",datetime.now())\n",
    "\n",
    "pd.set_option('display.max_rows', 1000)\n",
    "pd.options.display.float_format = '{:.2f}'.format\n",
    "\n",
    "warehouse_location_path = '/home/jovyan/work/spark-warehouse'\n",
    "\n",
    "warehouse_location = abspath(warehouse_location_path)\n",
    "\n",
    "print(warehouse_location)\n",
    "\n",
    "spark = SparkSession \\\n",
    "    .builder \\\n",
    "    .appName(\"shopee-category-search-extract\") \\\n",
    "    .config(\"spark.sql.warehouse.dir\", warehouse_location) \\\n",
    "    .config(\"spark.debug.maxToStringFields\",200) \\\n",
    "    .config(\"spark.sql.debug.maxToStringFields\",2000) \\\n",
    "    .config(\"spark.executor.memory\", \"4g\") \\\n",
    "    .config(\"spark.driver.memory\", \"4g\") \\\n",
    "    .config(\"spark.executor.extraJavaOptions\",\"-Dio.netty.tryReflectionSetAccessible=true -Xms4096m\") \\\n",
    "    .config(\"spark.driver.extraJavaOptions\",\"-Dio.netty.tryReflectionSetAccessible=true -Xms4096m\") \\\n",
    "    .enableHiveSupport() \\\n",
    "    .getOrCreate()\n",
    "\n",
    "spark.conf.set(\"spark.sql.sources.partitionOverwriteMode\",\"dynamic\")\n"
   ]
  },
  {
   "cell_type": "code",
   "execution_count": 2,
   "id": "90d57809-7897-48a7-9d7b-a92eea47e570",
   "metadata": {},
   "outputs": [],
   "source": [
    "import prestodb\n",
    "\n",
    "cols=['product_no','day_has_session','last_day_has_session','total_impressions','daily_impression','clicks','users','cost',\\\n",
    "      'gmv','total_web_purchase','add_cart','avg_user_gmv','last_7d_cost','last_7d_gmv','image_link','product_type','is_zero_suppliyers']\n",
    "\n",
    "def get_presto_data(sql):\n",
    "    conn=prestodb.dbapi.connect(\n",
    "        host='ec2-54-218-99-163.us-west-2.compute.amazonaws.com',\n",
    "        port=8889,\n",
    "        user='root',\n",
    "        catalog='hive',\n",
    "        schema='marketing',\n",
    "    )\n",
    "    cur = conn.cursor()\n",
    "    cur.execute(sql)\n",
    "    rows = cur.fetchall()\n",
    "\n",
    "    conn.close()\n",
    "    return rows"
   ]
  },
  {
   "cell_type": "code",
   "execution_count": 3,
   "id": "b77494ed-719c-4722-9b61-a8bae3c78771",
   "metadata": {},
   "outputs": [],
   "source": [
    "def get_last_x_day_str(x):\n",
    "    return (datetime.now() - timedelta(x)).strftime('%Y-%m-%d')\n",
    "\n",
    "last_60d = get_last_x_day_str(60)\n",
    "last_7d = get_last_x_day_str(7)\n",
    "last_1d = get_last_x_day_str(1)\n",
    "\n",
    "def get_data(start_date = None, end_date = None):\n",
    "    if start_date is None or len(start_date)<=0:\n",
    "        start_date = last_60d\n",
    "    if end_date is None or len(end_date)<=0:\n",
    "        end_date = last_1d\n",
    "    sql=\"\"\"\n",
    "    select a.*\n",
    "        ,b.image_link\n",
    "        ,b.product_type\n",
    "        ,c.is_zero_suppliyers\n",
    "    from\n",
    "    (select \n",
    "        product_no,\n",
    "        count(distinct dt) as day_has_session,\n",
    "        max(dt) as last_day_has_session,\n",
    "        sum(cast(impression as int)) as impression,\n",
    "        sum(cast(impression as int))/count(distinct dt) as daily_impression,\n",
    "        sum(cast(click_pv as int)) as clicks,\n",
    "        sum(cast(users as int)) as users,\n",
    "        sum(cast(cost as double)) as cost,\n",
    "        sum(cast(web_gmv as double)) as gmv,\n",
    "        sum(cast(web_purchase as int)) as total_web_purchase,\n",
    "        sum(cast(add_cart_pv as int)) as add_cart,\n",
    "        round(1.000*sum(cast(gmv as double))/sum(cast(users as int)),3) as avg_user_gmv,\n",
    "        round(sum(case when dt >= '{last_7d}' then cast(cost as double) else 0.0 end),2)last_7d_cost,\n",
    "        round(sum(case when dt >= '{last_7d}' then cast(gmv as double) else 0.0 end),2)last_7d_gmv\n",
    "    from marketing.ad_report_analysis_base a\n",
    "    where dt >= '{start_date}'\n",
    "        and dt <= '{end_date}'\n",
    "        and dt >= '2022-09-18' -- 9月18恢复投放\n",
    "        and lower(ad_channel) = 'google'\n",
    "        and lower(campaign_name) not like '%_shopify_%'\n",
    "        and lower(campaign_name) not like '%_deshopify_%'\n",
    "        and lower(campaign_name) not like '%独立站%'\n",
    "        and cast(cost as double) > 0\n",
    "        and cast(impression as int) > 0\n",
    "    group by 1)a\n",
    "    left join(\n",
    "        select id,image_link,product_type\n",
    "        from marketing.facebook_catalog_app_main\n",
    "        where dt = '{last_1d}'\n",
    "    )b on a.product_no = b.id\n",
    "    left join(\n",
    "        select pno,\n",
    "            case when write_uid = 8 then 'zero-suppliyers' else 'other-source' end as is_zero_suppliyers,\n",
    "            count(1) cnt\n",
    "        from jiayundw_dm.product_profile_df\n",
    "        where date_id = '{last_1d}'\n",
    "        group by 1,2\n",
    "    )c on a.product_no = c.pno\n",
    "    where impression>=100\n",
    "    \"\"\".format(start_date=start_date, end_date=end_date,last_7d=last_7d,last_1d=last_1d)\n",
    "\n",
    "\n",
    "    rows = get_presto_data(sql)\n",
    "    print(\"how many data:\", len(rows),\"\\n sample line:\", rows[0])\n",
    "\n",
    "    rdd = spark.sparkContext.parallelize(rows)\n",
    "    df=rdd.toDF(cols)\n",
    "\n",
    "    df=df.withColumn(\"date_written\", F.lit(datetime.now().strftime('%Y-%m-%d')))\n",
    "    return df\n",
    "\n",
    "df=get_data(last_60d,last_1d)\n",
    "df.printSchema()\n",
    "df.write.format(\"parquet\").mode(\"overwrite\").partitionBy(\"date_written\").save(warehouse_location_path + \"/google-data/\")"
   ]
  },
  {
   "cell_type": "code",
   "execution_count": 18,
   "id": "9cd7314a-fb93-4962-8734-f408b3df6706",
   "metadata": {},
   "outputs": [],
   "source": [
    "model_expr=\"\"\"\n",
    "CASE WHEN clicks >= 150 AND total_web_purchase <= 0 THEN 'poor-no-trans'\n",
    "WHEN clicks_per_purchase >= 150 AND total_web_purchase >2 AND daily_clicks >= 30 THEN 'poor-with-trans:top'\n",
    "WHEN clicks_per_purchase >= 150 AND total_web_purchase >2 AND daily_clicks >= 10 THEN 'poor-with-trans:middle'\n",
    "WHEN clicks_per_purchase >= 150 AND total_web_purchase >2 THEN 'poor-with-trans:tail'\n",
    "WHEN clicks >= 70 \n",
    "    AND (add_cart <=0 or clicks/add_cart >= 35)\n",
    "    AND total_web_purchase <= 0 THEN 'poor-low-site-usage'\n",
    "WHEN total_web_purchase > 0 AND daily_clicks >= 30 THEN 'normal-with-trans:top'\n",
    "WHEN total_web_purchase > 0 THEN 'normal-with-trans:middle-tail'\n",
    "ELSE 'normal-no-trans-yet' END\n",
    "\"\"\""
   ]
  },
  {
   "cell_type": "code",
   "execution_count": 5,
   "id": "000b603c-dee2-4de4-b9aa-15cdae850727",
   "metadata": {},
   "outputs": [],
   "source": [
    "def apply_model(df):\n",
    "    df=df.withColumn(\"roi\", F.expr(\"gmv/cost\"))\\\n",
    "    .withColumn('imp_per_purchase',F.expr('case when total_web_purchase>0 then total_impressions/total_web_purchase else 0 end'))\\\n",
    "    .withColumn(\"last_7d_roi\",F.expr(\"last_7d_gmv/last_7d_cost\"))\\\n",
    "    .withColumn(\"clicks_per_purchase\",F.col(\"clicks\")/F.col('total_web_purchase'))\\\n",
    "    .withColumn(\"daily_clicks\",F.col('clicks')/F.col('day_has_session'))\\\n",
    "    .withColumn('is_poor',F.expr(model_expr))\n",
    "\n",
    "    # df.printSchema()\n",
    "    return df\n",
    "    \n",
    "df = apply_model(df)"
   ]
  },
  {
   "cell_type": "markdown",
   "id": "cb1172fa-eb70-4246-aee6-aab4aef58c31",
   "metadata": {},
   "source": [
    "## 用9-18以来的数据进行预测和"
   ]
  },
  {
   "cell_type": "code",
   "execution_count": null,
   "id": "21bad27b-be71-46d5-9a41-f57ebc4095c6",
   "metadata": {},
   "outputs": [],
   "source": [
    "df_train=apply_model(get_data('2022-09-18','2022-10-18'))\n",
    "df_train.printSchema()\n",
    "df_test=apply_model(get_data('2022-09-18'))\n",
    "df_test.printSchema()\n",
    "\n",
    "\n",
    "df_test.createOrReplaceTempView(\"v_google_test\")\n",
    "df_train.createOrReplaceTempView(\"v_google_train\")\n",
    "\n",
    "final_df=spark.sql(\"\"\"\n",
    "select a.*,\n",
    "    case when b.is_poor like 'poor%' and a.is_poor like 'poor%' then 'both-poor'\n",
    "    when b.is_poor like 'poor%' and a.is_poor is not null and a.is_poor not like 'poor%' then 'poor-before-normal-now'\n",
    "    when a.is_poor like 'poor%' and b.is_poor is not null and b.is_poor not like 'poor%' then 'normal-before-poor-now'\n",
    "    when b.is_poor is null then 'new-product' else 'both-normal' end is_poor_before\n",
    "from v_google_test a\n",
    "left join v_google_train b on a.product_no=b.product_no\n",
    "\"\"\")\n",
    "\n",
    "final_df.groupBy(\"is_poor_before\")\\\n",
    ".agg(F.countDistinct(\"product_no\").alias(\"producrs\"),\\\n",
    "     F.round(F.sum(\"cost\"),2).alias(\"costs\"),\\\n",
    "     F.round(F.sum(\"gmv\"),2).alias(\"gmv\"),\\\n",
    "     F.round(F.sum(\"last_7d_cost\"),2).alias(\"last_7d_costs\"),\\\n",
    "     F.round(F.sum(\"last_7d_gmv\"),2).alias(\"last_7d_gmv\"),\\\n",
    "     F.round(F.sum(\"cost\")/F.max(\"day_has_session\"),2).alias(\"avg_daily_cost\"),\\\n",
    "     F.round(F.sum(\"gmv\")/F.sum(\"cost\"),3).alias(\"roi\"),\\\n",
    "     F.round(F.sum(\"last_7d_gmv\")/F.sum(\"last_7d_cost\"),3).alias(\"last_7d_roi\"))\\\n",
    ".withColumn(\"cost_%\",F.round(100.00*F.col(\"costs\")/F.sum('costs').over(W.partitionBy(F.lit('1'))),2))\\\n",
    ".withColumn(\"last_7d_cost_%\",F.round(100.00*F.col(\"last_7d_costs\")/F.sum('last_7d_costs').over(W.partitionBy(F.lit('1'))),2))\\\n",
    ".withColumn(\"gmv_%\",F.round(100.00*F.col(\"gmv\")/F.sum('gmv').over(W.partitionBy(F.lit('1'))),2))\\\n",
    ".show(truncate=False)"
   ]
  },
  {
   "cell_type": "code",
   "execution_count": 19,
   "id": "2fde0d6e-6f39-40b2-a405-c0df623a6fe9",
   "metadata": {},
   "outputs": [
    {
     "name": "stdout",
     "output_type": "stream",
     "text": [
      "+-----------------------------+--------+--------+---------+-------------+-----------+--------------+-----+-----------+------+--------------+-----+\n",
      "|is_poor_performence          |producrs|costs   |gmv      |last_7d_costs|last_7d_gmv|avg_daily_cost|roi  |last_7d_roi|cost_%|last_7d_cost_%|gmv_%|\n",
      "+-----------------------------+--------+--------+---------+-------------+-----------+--------------+-----+-----------+------+--------------+-----+\n",
      "|poor-with-trans:top          |12      |5090.99 |4448.23  |1334.35      |1376.85    |137.59        |0.874|1.032      |4.01  |4.47          |3.08 |\n",
      "|poor-with-trans:middle       |7       |1192.25 |1418.72  |227.09       |419.07     |34.06         |1.19 |1.845      |0.94  |0.76          |0.98 |\n",
      "|poor-no-trans                |163     |12504.74|0.0      |2892.06      |0.0        |347.35        |0.0  |0.0        |9.84  |9.7           |0.0  |\n",
      "|poor-low-site-usage          |256     |7606.64 |0.0      |1892.92      |0.0        |230.5         |0.0  |0.0        |5.99  |6.35          |0.0  |\n",
      "|normal-with-trans:top        |20      |7113.38 |21032.57 |2385.55      |6906.43    |197.59        |2.957|2.895      |5.6   |8.0           |14.57|\n",
      "|normal-with-trans:middle-tail|1883    |42514.67|117421.81|10707.51     |29488.1    |1149.05       |2.762|2.754      |33.47 |35.89         |81.36|\n",
      "|normal-no-trans-yet          |10035   |51017.29|0.0      |10390.92     |0.0        |1594.29       |0.0  |0.0        |40.16 |34.83         |0.0  |\n",
      "+-----------------------------+--------+--------+---------+-------------+-----------+--------------+-----+-----------+------+--------------+-----+\n",
      "\n"
     ]
    }
   ],
   "source": [
    "df = apply_model(df)\n",
    "df.groupBy(F.expr(\"is_poor as is_poor_performence\")).agg(F.countDistinct(\"product_no\").alias(\"producrs\"),\\\n",
    "     F.round(F.sum(\"cost\"),2).alias(\"costs\"),\\\n",
    "     F.round(F.sum(\"gmv\"),2).alias(\"gmv\"),\\\n",
    "     F.round(F.sum(\"last_7d_cost\"),2).alias(\"last_7d_costs\"),\\\n",
    "     F.round(F.sum(\"last_7d_gmv\"),2).alias(\"last_7d_gmv\"),\\\n",
    "     F.round(F.sum(\"cost\")/F.max(\"day_has_session\"),2).alias(\"avg_daily_cost\"),\\\n",
    "     F.round(F.sum(\"gmv\")/F.sum(\"cost\"),3).alias(\"roi\"),\\\n",
    "     F.round(F.sum(\"last_7d_gmv\")/F.sum(\"last_7d_cost\"),3).alias(\"last_7d_roi\"))\\\n",
    ".withColumn(\"cost_%\",F.round(100.00*F.col(\"costs\")/F.sum('costs').over(W.partitionBy(F.lit('1'))),2))\\\n",
    ".withColumn(\"last_7d_cost_%\",F.round(100.00*F.col(\"last_7d_costs\")/F.sum('last_7d_costs').over(W.partitionBy(F.lit('1'))),2))\\\n",
    ".withColumn(\"gmv_%\",F.round(100.00*F.col(\"gmv\")/F.sum('gmv').over(W.partitionBy(F.lit('1'))),2))\\\n",
    ".orderBy(F.desc(F.col(\"is_poor\")),F.desc(F.col(\"costs\")))\\\n",
    ".show(truncate=False)"
   ]
  },
  {
   "cell_type": "markdown",
   "id": "23340b60-625a-47f3-936a-f7fd19ab5a2d",
   "metadata": {},
   "source": [
    "## 需要多少个click才有一个purchase"
   ]
  },
  {
   "cell_type": "code",
   "execution_count": 20,
   "id": "1424d7c6-720f-4132-be22-f0377ed1bbd0",
   "metadata": {},
   "outputs": [
    {
     "data": {
      "text/plain": [
       "0.05    10.41\n",
       "0.50    37.67\n",
       "0.85    88.90\n",
       "0.95   149.67\n",
       "0.96   157.90\n",
       "0.97   183.14\n",
       "0.98   192.80\n",
       "Name: clicks_per_purchase, dtype: float64"
      ]
     },
     "execution_count": 20,
     "metadata": {},
     "output_type": "execute_result"
    },
    {
     "data": {
      "image/png": "[encoded data removed]",
      "text/plain": [
       "<Figure size 640x480 with 1 Axes>"
      ]
     },
     "metadata": {},
     "output_type": "display_data"
    }
   ],
   "source": [
    "pd_df=df.toPandas()\n",
    "\n",
    "has_pd = pd_df[pd_df['total_web_purchase']>2]\n",
    "has_pd = has_pd[has_pd['clicks_per_purchase']<350]\n",
    "\n",
    "has_pd['clicks_per_purchase'].hist(bins = 100)\n",
    "has_pd['clicks_per_purchase'].quantile([0.05,0.5,0.85,0.95,0.96,0.97,0.98])"
   ]
  },
  {
   "cell_type": "markdown",
   "id": "e61c43d9-7e33-421f-a670-a2377b4a8605",
   "metadata": {},
   "source": [
    "## 需要多少个click才有add_cart"
   ]
  },
  {
   "cell_type": "code",
   "execution_count": 21,
   "id": "e6845509-ef21-48a8-a779-050b47867255",
   "metadata": {},
   "outputs": [
    {
     "data": {
      "text/plain": [
       "0.05    2.89\n",
       "0.50    8.04\n",
       "0.85   15.40\n",
       "0.95   23.42\n",
       "0.96   25.57\n",
       "0.97   27.99\n",
       "0.98   35.12\n",
       "dtype: float64"
      ]
     },
     "execution_count": 21,
     "metadata": {},
     "output_type": "execute_result"
    },
    {
     "data": {
      "image/png": "[encoded data removed]",
      "text/plain": [
       "<Figure size 640x480 with 1 Axes>"
      ]
     },
     "metadata": {},
     "output_type": "display_data"
    }
   ],
   "source": [
    "(has_pd['clicks']/has_pd['add_cart']).hist(bins = 100)\n",
    "(has_pd['clicks']/has_pd['add_cart']).quantile([0.05,0.5,0.85,0.95,0.96,0.97,0.98])"
   ]
  },
  {
   "cell_type": "code",
   "execution_count": 22,
   "id": "2f736a8d-5d31-4386-bd6e-fcff8efcb78a",
   "metadata": {},
   "outputs": [
    {
     "data": {
      "text/plain": [
       "0.05    1.00\n",
       "0.50    1.50\n",
       "0.85    2.80\n",
       "0.95    5.57\n",
       "0.96    6.35\n",
       "0.97    7.58\n",
       "0.98    9.61\n",
       "0.99   13.92\n",
       "dtype: float64"
      ]
     },
     "execution_count": 22,
     "metadata": {},
     "output_type": "execute_result"
    }
   ],
   "source": [
    "(pd_df['clicks']/pd_df['day_has_session']).quantile([0.05,0.5,0.85,0.95,0.96,0.97,0.98,0.99])"
   ]
  },
  {
   "cell_type": "markdown",
   "id": "c08a49e1-531f-4c4b-86aa-f24baed69727",
   "metadata": {},
   "source": [
    "## 生成HTML"
   ]
  },
  {
   "cell_type": "code",
   "execution_count": 34,
   "id": "052417b5-f20f-4ad3-a241-894dafe2540a",
   "metadata": {},
   "outputs": [
    {
     "name": "stderr",
     "output_type": "stream",
     "text": [
      "/tmp/ipykernel_63892/1410921409.py:10: DeprecationWarning: Importing display from IPython.core.display is deprecated since IPython 7.14, please import from IPython display\n",
      "  from IPython.core.display import display, HTML\n"
     ]
    }
   ],
   "source": [
    "all_poor_df=df.where(\"is_poor like 'poor%' and last_7d_cost >0\")\n",
    "html_df=all_poor_df.selectExpr(\"product_no\",\"round(cost,2) as all_time_cost\",\"clicks\",\\\n",
    "            \"last_7d_cost\",\"case when last_7d_cost/cost >=0.8 then 'new-product' else 'not-new' end as is_new\",\"roi\",\\\n",
    "            \"replace(image_link,'.jpg','_350x350.jpg') as img_link\",\"is_zero_suppliyers\",\"is_poor as is_poor_performence\",\\\n",
    "            \"clicks_per_purchase\",\"clicks/add_cart as clicks_per_add_cart\",\"product_type\")\\\n",
    ".orderBy(F.desc(F.col(\"last_7d_cost\"))).toPandas()\n",
    "\n",
    "html_df.head(1),\n",
    "\n",
    "from IPython.core.display import display, HTML\n",
    "import re\n",
    "\n",
    "def path_to_image_html(path):\n",
    "    return '<img src=\"'+ path + '\" width=\"100\" />'\n",
    "\n",
    "def pno_to_link(pno):\n",
    "    link = 'https://www.wholeeshopping.com/product/'+re.findall(r'\\d+', pno)[0]\n",
    "    return '<a href=\"'+ link + '\" target=\"_blank\" >' + pno + '</a>'\n",
    "\n",
    "def prettier_category(product_type = \"\"):\n",
    "    return '<p class=\"product-type\">'+product_type.replace(\" > \", \" > <br/>\")+'</p>'\n",
    "\n",
    "def is_new_formatter(is_new = 'new-product'):\n",
    "    color = 'red;'\n",
    "    if is_new != 'new-product':\n",
    "        color = 'green;'\n",
    "    return '<span style=\"color:'+ color + '\">' + is_new + '</span>'\n",
    "\n",
    "html = html_df.to_html(escape=False, formatters=dict(img_link = path_to_image_html, \\\n",
    "                                                     product_no = pno_to_link, \\\n",
    "                                                     is_new = is_new_formatter, \\\n",
    "                                                     product_type = prettier_category))\n",
    "\n",
    "# display(HTML(html))"
   ]
  },
  {
   "cell_type": "code",
   "execution_count": 24,
   "id": "3983fa3d-5927-4a02-ba00-ae36d7b9a417",
   "metadata": {},
   "outputs": [
    {
     "name": "stdout",
     "output_type": "stream",
     "text": [
      "/home/jovyan/work/html/google-poor-performence-2022-10-25.html\n"
     ]
    }
   ],
   "source": [
    "from pathlib import Path\n",
    "home = str(Path.home())\n",
    "\n",
    "def table_html_to_formatted_doc(html, date = last_1d):\n",
    "    title = 'Google Poor Performence Products - {date}'.format(date = date)\n",
    "    html = \"\"\"\n",
    "    <!DOCTYPE html>\n",
    "<html lang=\"en-US\">\n",
    "  <head>\n",
    "    <title>\"\"\" + title + \"\"\"</title>\n",
    "    <style>\n",
    "    table, th, td {\n",
    "    border: 1px solid black;\n",
    "    border-collapse: collapse;\n",
    "    }\n",
    "    th, td {\n",
    "    padding: 2px 10px;\n",
    "    text-align: left;\n",
    "    }\n",
    "    </style>\n",
    "  </head>\n",
    "  <body><h1>\"\"\"+title+\"</h1>\"+html+\"</body></html>\"\n",
    "    \n",
    "    file = home + '/work/html/google-poor-performence-{date}.html'.format(date=date)\n",
    "    print(file)\n",
    "\n",
    "    f = open(file, \"w\")\n",
    "    f.write(html)\n",
    "    f.close()\n",
    "    \n",
    "    return file\n",
    "    \n",
    "html_file = table_html_to_formatted_doc(html)"
   ]
  },
  {
   "cell_type": "markdown",
   "id": "5d9ee3e2-44b1-4338-bba0-1a5325370e27",
   "metadata": {},
   "source": [
    "## 发送至企业微信"
   ]
  },
  {
   "cell_type": "code",
   "execution_count": 48,
   "id": "e625b8b0-6f69-496b-9ad1-e07be8c2e3c3",
   "metadata": {},
   "outputs": [],
   "source": [
    "# https://developer.work.weixin.qq.com/document/path/91770#%E6%96%87%E4%BB%B6%E4%B8%8A%E4%BC%A0%E6%8E%A5%E5%8F%A3\n",
    "# {\n",
    "#    \"errcode\": 0,\n",
    "#    \"errmsg\": \"ok\",\n",
    "#    \"type\": \"file\",\n",
    "#    \"media_id\": \"1G6nrLmr5EC3MMb_-zK1dDdzmd0p7cNliYu9V5w7o8K0\",\n",
    "#    \"created_at\": \"1380000000\"\n",
    "# }\n",
    "\n",
    "import os\n",
    "import requests\n",
    "\n",
    "def send_file_msg(media_id, key = 'e5055872-a9ab-4d2f-afb0-09b6da2d1304'):\n",
    "    json_data={\"msgtype\": \"file\",\"file\": {\"media_id\": media_id}}\n",
    "    url = 'https://qyapi.weixin.qq.com/cgi-bin/webhook/send?key={key}'.format(key=key)\n",
    "    r = requests.post(url, json = json_data, headers = {'Content-Type': 'application/json'})\n",
    "    print(r.text)\n",
    "    return r.text\n",
    "\n",
    "def send_text_msg(text, key = 'e5055872-a9ab-4d2f-afb0-09b6da2d1304'):\n",
    "    json_data={\"msgtype\": \"text\",\"text\": {\"content\": text,\"mentioned_list\":[\"wangqing\",\"@all\"]}}\n",
    "    url = 'https://qyapi.weixin.qq.com/cgi-bin/webhook/send?key={key}'.format(key=key)\n",
    "    r = requests.post(url, json = json_data, headers = {'Content-Type': 'application/json'})\n",
    "    print(r.text)\n",
    "    return r.text\n",
    "\n",
    "def upload_file(file, file_name = None, key = 'e5055872-a9ab-4d2f-afb0-09b6da2d1304'):\n",
    "    f = open(file,'rb')\n",
    "    file_size = os.path.getsize(file)\n",
    "    if file_name is None:\n",
    "        file_name = file.split(\"/\")[-1]\n",
    "        \n",
    "    url = 'https://qyapi.weixin.qq.com/cgi-bin/webhook/upload_media?key={key}&type=file'.format(key=key)\n",
    "    files = {'upload_file': (file_name, f)}\n",
    "    values = {'filename': 'photcat', 'filelength': 'csv', 'content-type': 'text/html'}\n",
    "\n",
    "    r = requests.post(url, files=files, data=values)\n",
    "    \n",
    "    return json.loads(r.text)"
   ]
  },
  {
   "cell_type": "code",
   "execution_count": 51,
   "id": "3b780fae-0a04-4bed-a74e-51d212f4568d",
   "metadata": {},
   "outputs": [
    {
     "name": "stdout",
     "output_type": "stream",
     "text": [
      "414\n",
      "how many products: 414\n",
      "uploading file: /home/jovyan/work/spark-warehouse/google-daily-result-csv/part-00000-403e4712-41dd-4262-8804-72b7988d41a2-c000.csv\n",
      "{'errcode': 0, 'errmsg': 'ok', 'type': 'file', 'media_id': '3lDVJ4PaSpYxZKbjVij0-oAcHTy4gl6hb1mCwTruhRiqrPu4B2718KLVKlgjasF-c', 'created_at': '1666773081'}\n",
      "{\"errcode\":0,\"errmsg\":\"ok\"}\n",
      "{\"errcode\":0,\"errmsg\":\"ok\"}\n",
      "{'errcode': 0, 'errmsg': 'ok', 'type': 'file', 'media_id': '3YttF79HsqYiNyT3z0yD_oI5ws_rqolqN7aC5iSeTpeUJuhCQbzSaNKYXgMdOhRpo', 'created_at': '1666773082'}\n",
      "{\"errcode\":0,\"errmsg\":\"ok\"}\n"
     ]
    },
    {
     "data": {
      "text/plain": [
       "'{\"errcode\":0,\"errmsg\":\"ok\"}'"
      ]
     },
     "execution_count": 51,
     "metadata": {},
     "output_type": "execute_result"
    }
   ],
   "source": [
    "print(all_poor_df.count())\n",
    "all_poor_df=all_poor_df.withColumn(\"date_marked_as_poor\", F.lit(last_1d))\n",
    "\n",
    "all_poor_df.repartition(1).write.partitionBy(\"date_marked_as_poor\").mode(\"overwrite\").parquet(warehouse_location_path+'/google-daily-result')\n",
    "\n",
    "all_unique=spark.read.parquet(warehouse_location_path+'/google-daily-result')\\\n",
    ".withColumn('rnk', F.row_number().over(W.partitionBy('product_no').orderBy(F.col(\"date_marked_as_poor\"))))\\\n",
    ".where('rnk=1').drop('rnk').drop(\"date_written\").orderBy(F.desc(\"date_marked_as_poor\"),F.desc(\"last_7d_cost\"))\n",
    "\n",
    "print('how many products:', all_unique.count())\n",
    "\n",
    "directory = warehouse_location_path + '/google-daily-result-csv/'\n",
    "all_unique.repartition(1).write.option(\"header\", 'true').mode(\"overwrite\").csv(directory)\n",
    "how_many_new = all_unique.where(\"date_marked_as_poor = '{day}'\".format(day=last_1d)).count()\n",
    "\n",
    "text = \"今日新增：{how_many_new} 个效果不佳商品。\".format(how_many_new=how_many_new)\n",
    "csv_file_name = 'GMC效果不佳商品列表_'+ last_1d + '.csv'\n",
    "\n",
    "\n",
    "for filename in os.listdir(directory):\n",
    "    f = os.path.join(directory, filename)\n",
    "    if os.path.isfile(f) and filename.endswith(\".csv\"):\n",
    "        print('uploading file:',f)\n",
    "        upload_result = upload_file(f, file_name=csv_file_name)\n",
    "        print(upload_result)\n",
    "        send_text_msg(text)\n",
    "        send_file_msg(upload_result['media_id'])\n",
    "        \n",
    "upload_result = upload_file(html_file)\n",
    "print(upload_result)\n",
    "send_file_msg(upload_result['media_id'])"
   ]
  }
 ],
 "metadata": {
  "kernelspec": {
   "display_name": "Python 3 (ipykernel)",
   "language": "python",
   "name": "python3"
  },
  "language_info": {
   "codemirror_mode": {
    "name": "ipython",
    "version": 3
   },
   "file_extension": ".py",
   "mimetype": "text/x-python",
   "name": "python",
   "nbconvert_exporter": "python",
   "pygments_lexer": "ipython3",
   "version": "3.10.6"
  }
 },
 "nbformat": 4,
 "nbformat_minor": 5
}
