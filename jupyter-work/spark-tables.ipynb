{
 "cells": [
  {
   "cell_type": "code",
   "execution_count": 1,
   "id": "6411ca96",
   "metadata": {},
   "outputs": [
    {
     "name": "stdout",
     "output_type": "stream",
     "text": [
      "/home/jovyan/work/spark-warehouse\n"
     ]
    },
    {
     "name": "stderr",
     "output_type": "stream",
     "text": [
      "WARNING: An illegal reflective access operation has occurred\n",
      "WARNING: Illegal reflective access by org.apache.spark.unsafe.Platform (file:/usr/local/spark-3.2.0-bin-hadoop3.2/jars/spark-unsafe_2.12-3.2.0.jar) to constructor java.nio.DirectByteBuffer(long,int)\n",
      "WARNING: Please consider reporting this to the maintainers of org.apache.spark.unsafe.Platform\n",
      "WARNING: Use --illegal-access=warn to enable warnings of further illegal reflective access operations\n",
      "WARNING: All illegal access operations will be denied in a future release\n",
      "Using Spark's default log4j profile: org/apache/spark/log4j-defaults.properties\n",
      "Setting default log level to \"WARN\".\n",
      "To adjust logging level use sc.setLogLevel(newLevel). For SparkR, use setLogLevel(newLevel).\n",
      "21/12/10 09:26:34 WARN NativeCodeLoader: Unable to load native-hadoop library for your platform... using builtin-java classes where applicable\n"
     ]
    }
   ],
   "source": [
    "import json\n",
    "from os.path import abspath\n",
    "from pyspark.context import SparkContext\n",
    "from pyspark.sql.session import SparkSession\n",
    "\n",
    "warehouse_location = abspath('/home/jovyan/work/spark-warehouse')\n",
    "\n",
    "print(warehouse_location)\n",
    "\n",
    "spark = SparkSession \\\n",
    "    .builder \\\n",
    "    .appName(\"Python Spark SQL Hive integration example\") \\\n",
    "    .config(\"spark.debug.maxToStringFields\",200) \\\n",
    "    .config(\"spark.sql.warehouse.dir\", warehouse_location) \\\n",
    "    .enableHiveSupport() \\\n",
    "    .getOrCreate()\n"
   ]
  },
  {
   "cell_type": "code",
   "execution_count": 2,
   "id": "15d09419",
   "metadata": {},
   "outputs": [
    {
     "name": "stdout",
     "output_type": "stream",
     "text": [
      "[('spark.app.startTime', '1639128394753'), ('spark.app.name', 'Python Spark SQL Hive integration example'), ('spark.executor.id', 'driver'), ('spark.driver.host', '27c3cf92ba83'), ('spark.app.id', 'local-1639128395326'), ('spark.driver.extraJavaOptions', '-Dio.netty.tryReflectionSetAccessible=true'), ('spark.sql.catalogImplementation', 'hive'), ('spark.rdd.compress', 'True'), ('spark.debug.maxToStringFields', '200'), ('spark.driver.port', '37597'), ('spark.serializer.objectStreamReset', '100'), ('spark.master', 'local[*]'), ('spark.submit.pyFiles', ''), ('spark.submit.deployMode', 'client'), ('spark.sql.warehouse.dir', 'file:/home/jovyan/work/spark-warehouse'), ('spark.executor.extraJavaOptions', '-Dio.netty.tryReflectionSetAccessible=true'), ('spark.ui.showConsoleProgress', 'true')]\n"
     ]
    }
   ],
   "source": [
    "print(spark.sparkContext.getConf().getAll())"
   ]
  },
  {
   "cell_type": "code",
   "execution_count": 3,
   "id": "0271fb35",
   "metadata": {},
   "outputs": [],
   "source": [
    "spark.conf.set(\"spark.sql.sources.partitionOverwriteMode\",\"dynamic\")\n",
    "table_path='/home/jovyan/work/spark-warehouse/t_test_table'\n",
    "def save(df):\n",
    "    df.write\\\n",
    "        .mode(\"overwrite\")\\\n",
    "        .partitionBy(\"day\")\\\n",
    "        .parquet(table_path);\n",
    "    \n",
    "    \n",
    "def save_by_table_name(df):\n",
    "    df.write\\\n",
    "        .mode(\"overwrite\")\\\n",
    "        .partitionBy(\"day\")\\\n",
    "        .option(\"path\",table_path)\\\n",
    "        .format(\"parquet\")\\\n",
    "        .saveAsTable(\"t_test_table\");"
   ]
  },
  {
   "cell_type": "code",
   "execution_count": null,
   "id": "e6458195",
   "metadata": {},
   "outputs": [],
   "source": [
    "\n",
    "\n",
    "df=spark.sql(\"select current_timestamp as time,current_date as day\")\n",
    "save(df)"
   ]
  },
  {
   "cell_type": "code",
   "execution_count": 5,
   "id": "4bee559d",
   "metadata": {},
   "outputs": [
    {
     "name": "stdout",
     "output_type": "stream",
     "text": [
      "+----------+--------+\n",
      "|day       |count(1)|\n",
      "+----------+--------+\n",
      "|2021-11-29|1       |\n",
      "|2021-11-27|1       |\n",
      "|2021-11-30|1       |\n",
      "|2021-12-10|1       |\n",
      "|2021-12-08|1       |\n",
      "|2021-12-09|1       |\n",
      "|2021-12-14|1       |\n",
      "|2021-12-12|1       |\n",
      "|2021-12-11|1       |\n",
      "|2021-12-31|1       |\n",
      "|2021-12-20|1       |\n",
      "+----------+--------+\n",
      "\n"
     ]
    }
   ],
   "source": [
    "df=spark.sql(\"select current_timestamp as time,current_date - interval -21 day as day\")\n",
    "save(df)\n",
    "save_by_table_name(df)\n",
    "spark.sql(\"select day,count(1) from t_test_table group by day\").show(truncate=False)"
   ]
  },
  {
   "cell_type": "code",
   "execution_count": 4,
   "id": "417b71cf",
   "metadata": {},
   "outputs": [
    {
     "name": "stderr",
     "output_type": "stream",
     "text": [
      "21/12/10 09:26:48 WARN HiveConf: HiveConf of name hive.stats.jdbc.timeout does not exist\n",
      "21/12/10 09:26:48 WARN HiveConf: HiveConf of name hive.stats.retries.wait does not exist\n",
      "21/12/10 09:26:50 WARN ObjectStore: Version information not found in metastore. hive.metastore.schema.verification is not enabled so recording the schema version 2.3.0\n",
      "21/12/10 09:26:50 WARN ObjectStore: setMetaStoreSchemaVersion called but recording version is disabled: version = 2.3.0, comment = Set by MetaStore UNKNOWN@172.21.0.2\n",
      "21/12/10 09:26:51 WARN ObjectStore: Failed to get database global_temp, returning NoSuchObjectException\n"
     ]
    },
    {
     "name": "stdout",
     "output_type": "stream",
     "text": [
      "++\n",
      "||\n",
      "++\n",
      "++\n",
      "\n"
     ]
    },
    {
     "name": "stderr",
     "output_type": "stream",
     "text": [
      "21/12/10 09:26:52 WARN SessionState: METASTORE_FILTER_HOOK will be ignored, since hive.security.authorization.manager is set to instance of HiveAuthorizerFactory.\n",
      "21/12/10 09:26:52 WARN HiveConf: HiveConf of name hive.internal.ss.authz.settings.applied.marker does not exist\n",
      "21/12/10 09:26:52 WARN HiveConf: HiveConf of name hive.stats.jdbc.timeout does not exist\n",
      "21/12/10 09:26:52 WARN HiveConf: HiveConf of name hive.stats.retries.wait does not exist\n"
     ]
    },
    {
     "name": "stdout",
     "output_type": "stream",
     "text": [
      "+----------+--------+\n",
      "|day       |count(1)|\n",
      "+----------+--------+\n",
      "|2021-12-10|28560   |\n",
      "+----------+--------+\n",
      "\n"
     ]
    }
   ],
   "source": [
    "spark.sql(\"refresh table t_test_table\").show(truncate=False)\n",
    "spark.sql(\"select day,count(1) from shopee_category_search_list_df group by day\").show(truncate=False)\n",
    "\n"
   ]
  },
  {
   "cell_type": "code",
   "execution_count": null,
   "id": "cc3f3d38",
   "metadata": {},
   "outputs": [],
   "source": [
    "spark.catalog.listTables()"
   ]
  },
  {
   "cell_type": "code",
   "execution_count": null,
   "id": "a4dc6c1c",
   "metadata": {},
   "outputs": [],
   "source": []
  }
 ],
 "metadata": {
  "kernelspec": {
   "display_name": "Python 3 (ipykernel)",
   "language": "python",
   "name": "python3"
  },
  "language_info": {
   "codemirror_mode": {
    "name": "ipython",
    "version": 3
   },
   "file_extension": ".py",
   "mimetype": "text/x-python",
   "name": "python",
   "nbconvert_exporter": "python",
   "pygments_lexer": "ipython3",
   "version": "3.9.7"
  }
 },
 "nbformat": 4,
 "nbformat_minor": 5
}
